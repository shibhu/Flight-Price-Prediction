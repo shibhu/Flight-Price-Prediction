{
 "cells": [
  {
   "cell_type": "code",
   "execution_count": 2,
   "metadata": {},
   "outputs": [],
   "source": [
    "import selenium\n",
    "import pandas as pd\n",
    "from selenium import webdriver\n",
    "import time\n",
    "from selenium.common.exceptions import NoSuchElementException"
   ]
  },
  {
   "cell_type": "code",
   "execution_count": 4,
   "metadata": {},
   "outputs": [],
   "source": [
    "from selenium.webdriver.chrome.options import Options\n",
    "options = Options()\n",
    "options.page_load_strategy = 'eager'\n",
    "driver = webdriver.Chrome(r\"C:\\Users\\chawl\\Documents\\chromedriver_win32\\chromedriver.exe\",options=options)"
   ]
  },
  {
   "cell_type": "code",
   "execution_count": 20,
   "metadata": {},
   "outputs": [],
   "source": [
    "#urls from where we will fethc the data"
   ]
  },
  {
   "cell_type": "code",
   "execution_count": 35,
   "metadata": {},
   "outputs": [],
   "source": [
    "# opening the portal\n",
    "urls =['https://www.yatra.com/flight-schedule/delhi-to-mumbai-flights.html',\n",
    "      'https://www.yatra.com/flight-schedule/delhi-to-bengaluru-flights.html',\n",
    "      'https://www.yatra.com/flight-schedule/bengaluru-to-delhi-flights.html',\n",
    "      'https://www.yatra.com/flight-schedule/mumbai-to-delhi-flights.html',\n",
    "      'https://www.yatra.com/flight-schedule/delhi-to-chennai-flights.html',\n",
    "      'https://www.yatra.com/flight-schedule/delhi-to-goa-flights.html',\n",
    "      'https://www.yatra.com/flight-schedule/delhi-to-patna-flights.html',\n",
    "      'https://www.yatra.com/flight-schedule/delhi-to-kolkata-flights.html',\n",
    "      'https://www.yatra.com/flight-schedule/delhi-to-srinagar-flights.html',\n",
    "      'https://www.yatra.com/flight-schedule/kolkata-to-delhi-flights.html',\n",
    "      'https://www.yatra.com/flight-schedule/bangalore-to-patna-flights.html',\n",
    "      'https://www.yatra.com/flight-schedule/bangalore-to-kolkata-flights.html',\n",
    "      'https://www.yatra.com/flight-schedule/mumbai-to-patna-flights.html'\n",
    "      ]"
   ]
  },
  {
   "cell_type": "code",
   "execution_count": null,
   "metadata": {},
   "outputs": [],
   "source": [
    "#list to store the data"
   ]
  },
  {
   "cell_type": "code",
   "execution_count": 36,
   "metadata": {},
   "outputs": [],
   "source": [
    "name=[]\n",
    "departure=[]\n",
    "arrival=[]\n",
    "duration=[]\n",
    "stop=[]\n",
    "price=[]\n",
    "departure_loc=[]\n",
    "arrival_loc=[]\n",
    "doj=[]"
   ]
  },
  {
   "cell_type": "code",
   "execution_count": null,
   "metadata": {},
   "outputs": [],
   "source": [
    "#code to scrap the data from the sites"
   ]
  },
  {
   "cell_type": "code",
   "execution_count": 37,
   "metadata": {},
   "outputs": [],
   "source": [
    "# logic to fetch the data for the october date\n",
    "for i in urls:\n",
    "    driver.get(i)\n",
    "    time.sleep(10)\n",
    "    x = i\n",
    "    x = x.split(\"/\")\n",
    "    x = x[len(x)-1]\n",
    "    x = x.split(\"-\")\n",
    "    try:\n",
    "        b = driver.find_element_by_xpath(\"//i[@class='ytfi-Rebooking fs-20']\")\n",
    "        b.click()\n",
    "        time.sleep(10)\n",
    "        r=0\n",
    "        while r<5:\n",
    "            b = driver.find_element_by_xpath(\"//span[@class='ytfi-angle-left']\")\n",
    "            b.click()\n",
    "            r+=1\n",
    "        time.sleep(10)\n",
    "        a = driver.find_element_by_xpath(\"//td[@class=' shown']\")\n",
    "        a.click()\n",
    "    except:\n",
    "        a = driver.find_element_by_xpath(\"//td[@class=' shown']\")\n",
    "        a.click()\n",
    "        \n",
    "    time.sleep(60)\n",
    "    nam = driver.find_elements_by_xpath(\"//span[@class='i-b text ellipsis']\")\n",
    "    depart = driver.find_elements_by_xpath(\"//div[@class='i-b pr']\")\n",
    "    arri = driver.find_elements_by_xpath(\"//p[@class='bold fs-15 mb-2 pr time']\")\n",
    "    dur = driver.find_elements_by_xpath(\"//p[@class='fs-12 bold du mb-2']\")\n",
    "    st = driver.find_elements_by_xpath(\"//div[@class=' font-lightgrey fs-10 tipsy i-b fs-10']\")\n",
    "    pri = driver.find_elements_by_xpath(\"//div[@class='i-b tipsy fare-summary-tooltip fs-18']\")\n",
    "    dj = driver.find_element_by_xpath(\"//div[@class='day-li text-center cursor-pointer pr active font-primary-color']/p\")\n",
    "    for r in nam:\n",
    "        name.append(r.text)\n",
    "        departure_loc.append(x[0])\n",
    "        arrival_loc.append(x[2])\n",
    "    for r in depart:\n",
    "        departure.append(r.text)\n",
    "    for r in arri:\n",
    "        arrival.append(r.text)\n",
    "    for r in dur:\n",
    "        duration.append(r.text)\n",
    "    for r in st:\n",
    "        stop.append(r.text)\n",
    "    for r in pri:\n",
    "        price.append(r.text)\n",
    "    for r in nam:\n",
    "        doj.append(dj.text)\n",
    "          \n",
    "    #logic to fetch the data for the next month\n",
    "    q=1\n",
    "    while(q<=5):\n",
    "        driver.get(i)\n",
    "        time.sleep(10)\n",
    "    #driver.find_elements_by_xpath(\"//div[@class='day-li text-center cursor-pointer font-lightgrey']\")\n",
    "        b = driver.find_element_by_xpath(\"//i[@class='ytfi-Rebooking fs-20']\")\n",
    "        b.click()\n",
    "        time.sleep(10)\n",
    "        r=0\n",
    "        while r<5:\n",
    "            b = driver.find_element_by_xpath(\"//span[@class='ytfi-angle-left']\")\n",
    "            b.click()\n",
    "            r+=1\n",
    "        b = driver.find_element_by_xpath(\"//span[@class='ytfi-angle-right']\")\n",
    "        b.click()\n",
    "        time.sleep(10)\n",
    "        try:\n",
    "            a = driver.find_element_by_xpath(\"//tr[@class='week week-\"+str(q)+\"']/td/div\")\n",
    "            a.click()\n",
    "        except:\n",
    "            a = driver.find_element_by_xpath(\"//tr[@class='week week-\"+str(q)+\"']/td[2]/div\")\n",
    "            a.click()\n",
    "        q+=1   \n",
    "        time.sleep(60)\n",
    "        nam = driver.find_elements_by_xpath(\"//span[@class='i-b text ellipsis']\")\n",
    "        depart = driver.find_elements_by_xpath(\"//div[@class='i-b pr']\")\n",
    "        arri = driver.find_elements_by_xpath(\"//p[@class='bold fs-15 mb-2 pr time']\")\n",
    "        dur = driver.find_elements_by_xpath(\"//p[@class='fs-12 bold du mb-2']\")\n",
    "        st = driver.find_elements_by_xpath(\"//div[@class=' font-lightgrey fs-10 tipsy i-b fs-10']\")\n",
    "        pri = driver.find_elements_by_xpath(\"//div[@class='i-b tipsy fare-summary-tooltip fs-18']\")\n",
    "        dj = driver.find_element_by_xpath(\"//div[@class='day-li text-center cursor-pointer pr active font-primary-color']/p\")\n",
    "        for r in nam:\n",
    "            name.append(r.text)\n",
    "            departure_loc.append(x[0])\n",
    "            arrival_loc.append(x[2])\n",
    "        for r in depart:\n",
    "            departure.append(r.text)\n",
    "        for r in arri:\n",
    "            arrival.append(r.text)\n",
    "        for r in dur:\n",
    "            duration.append(r.text)\n",
    "        for r in st:\n",
    "            stop.append(r.text)\n",
    "        for r in pri:\n",
    "            price.append(r.text)\n",
    "        for r in nam:\n",
    "            doj.append(dj.text)\n",
    "        "
   ]
  },
  {
   "cell_type": "code",
   "execution_count": 38,
   "metadata": {},
   "outputs": [
    {
     "data": {
      "text/plain": [
       "150"
      ]
     },
     "execution_count": 38,
     "metadata": {},
     "output_type": "execute_result"
    }
   ],
   "source": [
    "len(name)"
   ]
  },
  {
   "cell_type": "code",
   "execution_count": null,
   "metadata": {},
   "outputs": [],
   "source": [
    "# creating the dataframe and storing to csv"
   ]
  },
  {
   "cell_type": "code",
   "execution_count": 39,
   "metadata": {},
   "outputs": [],
   "source": [
    "df = pd.DataFrame({\n",
    "    'name':name,\n",
    "'departure':departure,\n",
    "'arrival':arrival,\n",
    "'duration':duration,\n",
    "'stop':stop,\n",
    "'price':price,\n",
    "'departure_loc':departure_loc,\n",
    "'arrival_loc':arrival_loc,\n",
    "'doj':doj\n",
    "})\n",
    "df.to_csv('flight_scrapped.csv')\n",
    "\n"
   ]
  },
  {
   "cell_type": "code",
   "execution_count": 45,
   "metadata": {},
   "outputs": [
    {
     "data": {
      "text/html": [
       "<div>\n",
       "<style scoped>\n",
       "    .dataframe tbody tr th:only-of-type {\n",
       "        vertical-align: middle;\n",
       "    }\n",
       "\n",
       "    .dataframe tbody tr th {\n",
       "        vertical-align: top;\n",
       "    }\n",
       "\n",
       "    .dataframe thead th {\n",
       "        text-align: right;\n",
       "    }\n",
       "</style>\n",
       "<table border=\"1\" class=\"dataframe\">\n",
       "  <thead>\n",
       "    <tr style=\"text-align: right;\">\n",
       "      <th></th>\n",
       "      <th>Unnamed: 0</th>\n",
       "      <th>name</th>\n",
       "      <th>departure</th>\n",
       "      <th>arrival</th>\n",
       "      <th>duration</th>\n",
       "      <th>stop</th>\n",
       "      <th>price</th>\n",
       "      <th>departure_loc</th>\n",
       "      <th>arrival_loc</th>\n",
       "      <th>doj</th>\n",
       "    </tr>\n",
       "  </thead>\n",
       "  <tbody>\n",
       "    <tr>\n",
       "      <th>0</th>\n",
       "      <td>0</td>\n",
       "      <td>Air Asia</td>\n",
       "      <td>18:40</td>\n",
       "      <td>06:20\\n+ 1 day</td>\n",
       "      <td>11h 40m</td>\n",
       "      <td>1 Stop</td>\n",
       "      <td>5,953</td>\n",
       "      <td>delhi</td>\n",
       "      <td>mumbai</td>\n",
       "      <td>Tue, 19 Oct</td>\n",
       "    </tr>\n",
       "    <tr>\n",
       "      <th>1</th>\n",
       "      <td>1</td>\n",
       "      <td>Go First</td>\n",
       "      <td>18:50</td>\n",
       "      <td>20:45</td>\n",
       "      <td>1h 55m</td>\n",
       "      <td>Non Stop</td>\n",
       "      <td>5,954</td>\n",
       "      <td>delhi</td>\n",
       "      <td>mumbai</td>\n",
       "      <td>Tue, 19 Oct</td>\n",
       "    </tr>\n",
       "    <tr>\n",
       "      <th>2</th>\n",
       "      <td>2</td>\n",
       "      <td>Air Asia</td>\n",
       "      <td>21:20</td>\n",
       "      <td>14:15\\n+ 1 day</td>\n",
       "      <td>16h 55m</td>\n",
       "      <td>1 Stop</td>\n",
       "      <td>7,926</td>\n",
       "      <td>delhi</td>\n",
       "      <td>mumbai</td>\n",
       "      <td>Tue, 19 Oct</td>\n",
       "    </tr>\n",
       "    <tr>\n",
       "      <th>3</th>\n",
       "      <td>3</td>\n",
       "      <td>Air India</td>\n",
       "      <td>20:10</td>\n",
       "      <td>20:00\\n+ 1 day</td>\n",
       "      <td>23h 50m</td>\n",
       "      <td>1 Stop</td>\n",
       "      <td>9,000</td>\n",
       "      <td>delhi</td>\n",
       "      <td>mumbai</td>\n",
       "      <td>Tue, 19 Oct</td>\n",
       "    </tr>\n",
       "    <tr>\n",
       "      <th>4</th>\n",
       "      <td>4</td>\n",
       "      <td>Air India</td>\n",
       "      <td>18:30</td>\n",
       "      <td>13:25\\n+ 1 day</td>\n",
       "      <td>18h 55m</td>\n",
       "      <td>1 Stop</td>\n",
       "      <td>9,840</td>\n",
       "      <td>delhi</td>\n",
       "      <td>mumbai</td>\n",
       "      <td>Tue, 19 Oct</td>\n",
       "    </tr>\n",
       "  </tbody>\n",
       "</table>\n",
       "</div>"
      ],
      "text/plain": [
       "   Unnamed: 0       name departure         arrival duration      stop  price  \\\n",
       "0           0   Air Asia     18:40  06:20\\n+ 1 day  11h 40m    1 Stop  5,953   \n",
       "1           1   Go First     18:50           20:45   1h 55m  Non Stop  5,954   \n",
       "2           2   Air Asia     21:20  14:15\\n+ 1 day  16h 55m    1 Stop  7,926   \n",
       "3           3  Air India     20:10  20:00\\n+ 1 day  23h 50m    1 Stop  9,000   \n",
       "4           4  Air India     18:30  13:25\\n+ 1 day  18h 55m    1 Stop  9,840   \n",
       "\n",
       "  departure_loc arrival_loc          doj  \n",
       "0         delhi      mumbai  Tue, 19 Oct  \n",
       "1         delhi      mumbai  Tue, 19 Oct  \n",
       "2         delhi      mumbai  Tue, 19 Oct  \n",
       "3         delhi      mumbai  Tue, 19 Oct  \n",
       "4         delhi      mumbai  Tue, 19 Oct  "
      ]
     },
     "execution_count": 45,
     "metadata": {},
     "output_type": "execute_result"
    }
   ],
   "source": [
    "df.head()"
   ]
  },
  {
   "cell_type": "code",
   "execution_count": 46,
   "metadata": {},
   "outputs": [
    {
     "data": {
      "text/plain": [
       "(1525, 10)"
      ]
     },
     "execution_count": 46,
     "metadata": {},
     "output_type": "execute_result"
    }
   ],
   "source": [
    "df.shape"
   ]
  },
  {
   "cell_type": "code",
   "execution_count": null,
   "metadata": {},
   "outputs": [],
   "source": []
  }
 ],
 "metadata": {
  "kernelspec": {
   "display_name": "Python 3",
   "language": "python",
   "name": "python3"
  },
  "language_info": {
   "codemirror_mode": {
    "name": "ipython",
    "version": 3
   },
   "file_extension": ".py",
   "mimetype": "text/x-python",
   "name": "python",
   "nbconvert_exporter": "python",
   "pygments_lexer": "ipython3",
   "version": "3.8.5"
  }
 },
 "nbformat": 4,
 "nbformat_minor": 4
}
